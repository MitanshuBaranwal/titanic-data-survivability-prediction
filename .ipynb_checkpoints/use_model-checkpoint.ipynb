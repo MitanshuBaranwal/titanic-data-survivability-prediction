{
 "cells": [
  {
   "cell_type": "code",
   "execution_count": 10,
   "id": "8e799fcb",
   "metadata": {},
   "outputs": [
    {
     "name": "stdout",
     "output_type": "stream",
     "text": [
      "Pclass2\n",
      "Sexmale\n",
      "Age60\n",
      "SibSp2\n",
      "Parch0\n",
      "Fare80\n",
      "EmbarkedS\n",
      "Passenger most probably did not survive.\n"
     ]
    }
   ],
   "source": [
    "#import required dependencies\n",
    "\n",
    "import joblib\n",
    "import os\n",
    "import pandas as pd\n",
    "\n",
    "# load model\n",
    "loaded_model = joblib.load(r\"logistic_regression_model.pkl\")\n",
    "\n",
    "# Create a new DataFrame with the selected columns\n",
    "new_data = pd.DataFrame(columns=[\"Pclass\", \"Sex\", \"Age\", \"SibSp\", \"Parch\", \"Fare\", \"Embarked\"])\n",
    "Pclass = int(input(\"Pclass\"))\n",
    "Sex = input(\"Sex\")\n",
    "Age = float(input(\"Age\"))\n",
    "SibSp = int(input(\"SibSp\"))\n",
    "Parch = int(input(\"Parch\"))\n",
    "Fare = float(input(\"Fare\"))\n",
    "Embarked = input(\"Embarked\")\n",
    "\n",
    "# Add the data to test \n",
    "new_data.loc[0] = [Pclass, Sex, Age, SibSp, Parch, Fare, Embarked] \n",
    "#Exaple data :\n",
    "#3, male, 26.0, 0, 0, 7.9250, S\n",
    "\n",
    "# Preprocess the new data similar to initial preprocessing steps\n",
    "# Handle missing values \n",
    "new_data[\"Age\"].fillna(new_data[\"Age\"].mean(), inplace=True)\n",
    "new_data[\"Embarked\"].fillna(new_data[\"Embarked\"].mode()[0], inplace=True)\n",
    "\n",
    "# Encode categorical variables \n",
    "new_data.replace({\"Sex\": {\"male\": 0, \"female\": 1}, \"Embarked\": {\"S\": 0, \"C\": 1, \"Q\": 2}}, inplace=True)\n",
    "\n",
    "\n",
    "# Use the trained model to make predictions on new data\n",
    "new_data_predictions = loaded_model.predict(new_data)\n",
    "\n",
    "# Print predictions\n",
    "if new_data_predictions[0] == 0:\n",
    "    print(\"Passenger most probably did not survive.\")\n",
    "else:\n",
    "    print(\"Passenger most probably survived.\")\n"
   ]
  },
  {
   "cell_type": "code",
   "execution_count": null,
   "id": "824ce1fb",
   "metadata": {},
   "outputs": [],
   "source": []
  }
 ],
 "metadata": {
  "kernelspec": {
   "display_name": "Python 3 (ipykernel)",
   "language": "python",
   "name": "python3"
  },
  "language_info": {
   "codemirror_mode": {
    "name": "ipython",
    "version": 3
   },
   "file_extension": ".py",
   "mimetype": "text/x-python",
   "name": "python",
   "nbconvert_exporter": "python",
   "pygments_lexer": "ipython3",
   "version": "3.11.4"
  }
 },
 "nbformat": 4,
 "nbformat_minor": 5
}
